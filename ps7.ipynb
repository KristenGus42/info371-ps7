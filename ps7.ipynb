{
 "cells": [
  {
   "cell_type": "markdown",
   "metadata": {},
   "source": [
    "# PS7: Image Categorization"
   ]
  },
  {
   "cell_type": "markdown",
   "metadata": {},
   "source": [
    "Authors: Kristen Gustafson, Jenna"
   ]
  },
  {
   "cell_type": "code",
   "execution_count": 2,
   "id": "e8ee9dce",
   "metadata": {},
   "outputs": [],
   "source": [
    "import keras\n",
    "import numpy as np\n",
    "import pandas as pd\n",
    "from keras.utils import to_categorical"
   ]
  },
  {
   "cell_type": "markdown",
   "metadata": {},
   "source": [
    "## Section 2.1: "
   ]
  },
  {
   "cell_type": "code",
   "execution_count": 4,
   "id": "31eb1c2e",
   "metadata": {},
   "outputs": [
    {
     "name": "stdout",
     "output_type": "stream",
     "text": [
      "Found 31869 files belonging to 5 classes.\n",
      "In all 31869 training images\n",
      "Found 7967 files belonging to 5 classes.\n",
      "In all 7967 validation images\n",
      "Found classes: ['DA', 'EN', 'RU', 'TH', 'ZN']\n"
     ]
    }
   ],
   "source": [
    "# Download all validation and training data\n",
    "\n",
    "imgDir = \"\"\n",
    "targetWidth, targetHeight, channels = 32, 32, 1\n",
    "imageSize = (targetWidth, targetHeight)\n",
    "\n",
    "## Training and validation data generator:\n",
    "DSt = keras.utils.image_dataset_from_directory(\n",
    "    imgDir + \"train/train\",\n",
    "    label_mode = \"int\",  # must match with 'sparse_categorical_crossentropy'\n",
    "    color_mode = \"grayscale\",  # color channels\n",
    "    batch_size = 32,\n",
    "    image_size = imageSize,\n",
    "    shuffle = True)\n",
    "print(f\"In all {len(DSt.file_paths)} training images\")\n",
    "DSv = keras.utils.image_dataset_from_directory(\n",
    "    imgDir + \"validation/validation\",\n",
    "    label_mode = \"int\",  # must match with 'sparse_categorical_crossentropy'\n",
    "    color_mode = \"grayscale\",  # color channels\n",
    "    batch_size = 32,\n",
    "    image_size = imageSize,\n",
    "    shuffle = False)\n",
    "print(f\"In all {len(DSv.file_paths)} validation images\")\n",
    "print(\"Found classes:\", DSt.class_names)\n",
    "nCategories = len(DSt.class_names)"
   ]
  },
  {
   "cell_type": "markdown",
   "metadata": {},
   "source": [
    "# Setion 2.3: "
   ]
  },
  {
   "cell_type": "code",
   "execution_count": null,
   "id": "e798c7d1",
   "metadata": {},
   "outputs": [],
   "source": [
    "# Split langauges \n",
    "\n"
   ]
  }
 ],
 "metadata": {
  "kernelspec": {
   "display_name": ".venv",
   "language": "python",
   "name": "python3"
  },
  "language_info": {
   "codemirror_mode": {
    "name": "ipython",
    "version": 3
   },
   "file_extension": ".py",
   "mimetype": "text/x-python",
   "name": "python",
   "nbconvert_exporter": "python",
   "pygments_lexer": "ipython3",
   "version": "3.11.9"
  }
 },
 "nbformat": 4,
 "nbformat_minor": 5
}
